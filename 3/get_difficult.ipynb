{
 "cells": [
  {
   "cell_type": "code",
   "execution_count": 2,
   "metadata": {
    "collapsed": true
   },
   "outputs": [],
   "source": [
    "import pandas as pd\n",
    "import numpy as np\n",
    "import matplotlib.pyplot as plt"
   ]
  },
  {
   "cell_type": "code",
   "execution_count": 3,
   "outputs": [],
   "source": [
    "source_data = pd.read_csv('../data/source_data.csv')\n",
    "handle_data = pd.read_csv('../data/handle_data.csv')\n",
    "df = pd.read_excel('../data/word frequency list 60000 English.xlsx')"
   ],
   "metadata": {
    "collapsed": false
   }
  },
  {
   "cell_type": "code",
   "execution_count": 4,
   "outputs": [
    {
     "data": {
      "text/plain": "      Word     rank class\n0    excel      NaN    C2\n1    infer  13463.0    C2\n2    undue   9949.0    C2\n3    prime    780.0    C2\n4    sneak      NaN    C2\n..     ...      ...   ...\n358  slump   9797.0   NaN\n359    NaN      NaN   NaN\n360    NaN      NaN   NaN\n361    NaN      NaN   NaN\n362    NaN      NaN   NaN\n\n[363 rows x 3 columns]",
      "text/html": "<div>\n<style scoped>\n    .dataframe tbody tr th:only-of-type {\n        vertical-align: middle;\n    }\n\n    .dataframe tbody tr th {\n        vertical-align: top;\n    }\n\n    .dataframe thead th {\n        text-align: right;\n    }\n</style>\n<table border=\"1\" class=\"dataframe\">\n  <thead>\n    <tr style=\"text-align: right;\">\n      <th></th>\n      <th>Word</th>\n      <th>rank</th>\n      <th>class</th>\n    </tr>\n  </thead>\n  <tbody>\n    <tr>\n      <th>0</th>\n      <td>excel</td>\n      <td>NaN</td>\n      <td>C2</td>\n    </tr>\n    <tr>\n      <th>1</th>\n      <td>infer</td>\n      <td>13463.0</td>\n      <td>C2</td>\n    </tr>\n    <tr>\n      <th>2</th>\n      <td>undue</td>\n      <td>9949.0</td>\n      <td>C2</td>\n    </tr>\n    <tr>\n      <th>3</th>\n      <td>prime</td>\n      <td>780.0</td>\n      <td>C2</td>\n    </tr>\n    <tr>\n      <th>4</th>\n      <td>sneak</td>\n      <td>NaN</td>\n      <td>C2</td>\n    </tr>\n    <tr>\n      <th>...</th>\n      <td>...</td>\n      <td>...</td>\n      <td>...</td>\n    </tr>\n    <tr>\n      <th>358</th>\n      <td>slump</td>\n      <td>9797.0</td>\n      <td>NaN</td>\n    </tr>\n    <tr>\n      <th>359</th>\n      <td>NaN</td>\n      <td>NaN</td>\n      <td>NaN</td>\n    </tr>\n    <tr>\n      <th>360</th>\n      <td>NaN</td>\n      <td>NaN</td>\n      <td>NaN</td>\n    </tr>\n    <tr>\n      <th>361</th>\n      <td>NaN</td>\n      <td>NaN</td>\n      <td>NaN</td>\n    </tr>\n    <tr>\n      <th>362</th>\n      <td>NaN</td>\n      <td>NaN</td>\n      <td>NaN</td>\n    </tr>\n  </tbody>\n</table>\n<p>363 rows × 3 columns</p>\n</div>"
     },
     "execution_count": 4,
     "metadata": {},
     "output_type": "execute_result"
    }
   ],
   "source": [
    "temp_data = pd.read_excel('../data/temp_data.xlsx', usecols=['Word', 'rank', 'class'])\n",
    "temp_data"
   ],
   "metadata": {
    "collapsed": false
   }
  },
  {
   "cell_type": "code",
   "execution_count": 5,
   "outputs": [],
   "source": [
    "# 如果‘class’中的数据为NAN，则看rank是否为NAN，如果rank为NAN，则class为D2，否则为D1\n",
    "for i in range(len(temp_data)):\n",
    "    if pd.isna(temp_data.loc[i, 'class']):\n",
    "        if pd.isna(temp_data.loc[i, 'rank']):\n",
    "            temp_data.loc[i, 'class'] = 'D2'\n",
    "        else:\n",
    "            temp_data.loc[i, 'class'] = 'D1'\n"
   ],
   "metadata": {
    "collapsed": false
   }
  },
  {
   "cell_type": "code",
   "execution_count": 6,
   "outputs": [],
   "source": [
    "temp_data.to_csv('../data/temp_data.csv', index=False)"
   ],
   "metadata": {
    "collapsed": false
   }
  },
  {
   "cell_type": "code",
   "execution_count": 7,
   "outputs": [
    {
     "data": {
      "text/plain": "      Word     rank  class\n0    excel      NaN      6\n1    infer  13463.0      6\n2    undue   9949.0      6\n3    prime    780.0      6\n4    sneak      NaN      6\n..     ...      ...    ...\n358  slump   9797.0      7\n359    NaN      NaN      8\n360    NaN      NaN      8\n361    NaN      NaN      8\n362    NaN      NaN      8\n\n[363 rows x 3 columns]",
      "text/html": "<div>\n<style scoped>\n    .dataframe tbody tr th:only-of-type {\n        vertical-align: middle;\n    }\n\n    .dataframe tbody tr th {\n        vertical-align: top;\n    }\n\n    .dataframe thead th {\n        text-align: right;\n    }\n</style>\n<table border=\"1\" class=\"dataframe\">\n  <thead>\n    <tr style=\"text-align: right;\">\n      <th></th>\n      <th>Word</th>\n      <th>rank</th>\n      <th>class</th>\n    </tr>\n  </thead>\n  <tbody>\n    <tr>\n      <th>0</th>\n      <td>excel</td>\n      <td>NaN</td>\n      <td>6</td>\n    </tr>\n    <tr>\n      <th>1</th>\n      <td>infer</td>\n      <td>13463.0</td>\n      <td>6</td>\n    </tr>\n    <tr>\n      <th>2</th>\n      <td>undue</td>\n      <td>9949.0</td>\n      <td>6</td>\n    </tr>\n    <tr>\n      <th>3</th>\n      <td>prime</td>\n      <td>780.0</td>\n      <td>6</td>\n    </tr>\n    <tr>\n      <th>4</th>\n      <td>sneak</td>\n      <td>NaN</td>\n      <td>6</td>\n    </tr>\n    <tr>\n      <th>...</th>\n      <td>...</td>\n      <td>...</td>\n      <td>...</td>\n    </tr>\n    <tr>\n      <th>358</th>\n      <td>slump</td>\n      <td>9797.0</td>\n      <td>7</td>\n    </tr>\n    <tr>\n      <th>359</th>\n      <td>NaN</td>\n      <td>NaN</td>\n      <td>8</td>\n    </tr>\n    <tr>\n      <th>360</th>\n      <td>NaN</td>\n      <td>NaN</td>\n      <td>8</td>\n    </tr>\n    <tr>\n      <th>361</th>\n      <td>NaN</td>\n      <td>NaN</td>\n      <td>8</td>\n    </tr>\n    <tr>\n      <th>362</th>\n      <td>NaN</td>\n      <td>NaN</td>\n      <td>8</td>\n    </tr>\n  </tbody>\n</table>\n<p>363 rows × 3 columns</p>\n</div>"
     },
     "execution_count": 7,
     "metadata": {},
     "output_type": "execute_result"
    }
   ],
   "source": [
    "# 将temp_data中的class转换为数字\n",
    "temp_data['class'] = temp_data['class'].map({'A1': 1, 'A2': 2, 'B1': 3, 'B2': 4, 'C1': 5, 'C2': 6, 'D1': 7, 'D2': 8})\n",
    "temp_data"
   ],
   "metadata": {
    "collapsed": false
   }
  },
  {
   "cell_type": "code",
   "execution_count": 8,
   "outputs": [],
   "source": [
    "letter_data = pd.read_csv('../data/letter.csv', index_col=0)\n",
    "temp_data.to_csv('../data/temp_data.csv', index=False)"
   ],
   "metadata": {
    "collapsed": false
   }
  },
  {
   "cell_type": "code",
   "execution_count": 9,
   "outputs": [
    {
     "data": {
      "text/plain": "           Date  Contest number   Word  Number of  reported results  \\\n0      2022/1/7             202  slump                        80630   \n1      2022/1/8             203  crank                       101503   \n2      2022/1/9             204  gorge                        91477   \n3     2022/1/10             205  query                       107134   \n4     2022/1/11             206  drink                       153880   \n..          ...             ...    ...                          ...   \n354  2022/12/27             556  condo                        20879   \n355  2022/12/28             557  impel                        20160   \n356  2022/12/29             558  havoc                        20001   \n357  2022/12/30             559  molar                        21204   \n358  2022/12/31             560  manly                        20380   \n\n     Number in hard mode  1 try  2 tries  3 tries  4 tries  5 tries  6 tries  \\\n0                   1362      1        3       23       39       24        9   \n1                   1763      1        5       23       31       24       14   \n2                   1913      1        3       13       27       30       22   \n3                   2242      1        4       16       30       30       17   \n4                   3017      1        9       35       34       16        5   \n..                   ...    ...      ...      ...      ...      ...      ...   \n354                 2012      0        2       17       35       29       14   \n355                 1937      0        3       21       40       25        9   \n356                 1919      0        2       16       38       30       12   \n357                 1973      0        4       21       38       26        9   \n358                 1899      0        2       17       37       29       12   \n\n     7 or more tries (X)  letter occupancy  \n0                      1          0.379423  \n1                      2          0.456704  \n2                      4          0.458566  \n3                      2          0.375698  \n4                      1          0.390363  \n..                   ...               ...  \n354                    3          0.347998  \n355                    1          0.258380  \n356                    2          0.269088  \n357                    1          0.385475  \n358                    2          0.457635  \n\n[359 rows x 13 columns]",
      "text/html": "<div>\n<style scoped>\n    .dataframe tbody tr th:only-of-type {\n        vertical-align: middle;\n    }\n\n    .dataframe tbody tr th {\n        vertical-align: top;\n    }\n\n    .dataframe thead th {\n        text-align: right;\n    }\n</style>\n<table border=\"1\" class=\"dataframe\">\n  <thead>\n    <tr style=\"text-align: right;\">\n      <th></th>\n      <th>Date</th>\n      <th>Contest number</th>\n      <th>Word</th>\n      <th>Number of  reported results</th>\n      <th>Number in hard mode</th>\n      <th>1 try</th>\n      <th>2 tries</th>\n      <th>3 tries</th>\n      <th>4 tries</th>\n      <th>5 tries</th>\n      <th>6 tries</th>\n      <th>7 or more tries (X)</th>\n      <th>letter occupancy</th>\n    </tr>\n  </thead>\n  <tbody>\n    <tr>\n      <th>0</th>\n      <td>2022/1/7</td>\n      <td>202</td>\n      <td>slump</td>\n      <td>80630</td>\n      <td>1362</td>\n      <td>1</td>\n      <td>3</td>\n      <td>23</td>\n      <td>39</td>\n      <td>24</td>\n      <td>9</td>\n      <td>1</td>\n      <td>0.379423</td>\n    </tr>\n    <tr>\n      <th>1</th>\n      <td>2022/1/8</td>\n      <td>203</td>\n      <td>crank</td>\n      <td>101503</td>\n      <td>1763</td>\n      <td>1</td>\n      <td>5</td>\n      <td>23</td>\n      <td>31</td>\n      <td>24</td>\n      <td>14</td>\n      <td>2</td>\n      <td>0.456704</td>\n    </tr>\n    <tr>\n      <th>2</th>\n      <td>2022/1/9</td>\n      <td>204</td>\n      <td>gorge</td>\n      <td>91477</td>\n      <td>1913</td>\n      <td>1</td>\n      <td>3</td>\n      <td>13</td>\n      <td>27</td>\n      <td>30</td>\n      <td>22</td>\n      <td>4</td>\n      <td>0.458566</td>\n    </tr>\n    <tr>\n      <th>3</th>\n      <td>2022/1/10</td>\n      <td>205</td>\n      <td>query</td>\n      <td>107134</td>\n      <td>2242</td>\n      <td>1</td>\n      <td>4</td>\n      <td>16</td>\n      <td>30</td>\n      <td>30</td>\n      <td>17</td>\n      <td>2</td>\n      <td>0.375698</td>\n    </tr>\n    <tr>\n      <th>4</th>\n      <td>2022/1/11</td>\n      <td>206</td>\n      <td>drink</td>\n      <td>153880</td>\n      <td>3017</td>\n      <td>1</td>\n      <td>9</td>\n      <td>35</td>\n      <td>34</td>\n      <td>16</td>\n      <td>5</td>\n      <td>1</td>\n      <td>0.390363</td>\n    </tr>\n    <tr>\n      <th>...</th>\n      <td>...</td>\n      <td>...</td>\n      <td>...</td>\n      <td>...</td>\n      <td>...</td>\n      <td>...</td>\n      <td>...</td>\n      <td>...</td>\n      <td>...</td>\n      <td>...</td>\n      <td>...</td>\n      <td>...</td>\n      <td>...</td>\n    </tr>\n    <tr>\n      <th>354</th>\n      <td>2022/12/27</td>\n      <td>556</td>\n      <td>condo</td>\n      <td>20879</td>\n      <td>2012</td>\n      <td>0</td>\n      <td>2</td>\n      <td>17</td>\n      <td>35</td>\n      <td>29</td>\n      <td>14</td>\n      <td>3</td>\n      <td>0.347998</td>\n    </tr>\n    <tr>\n      <th>355</th>\n      <td>2022/12/28</td>\n      <td>557</td>\n      <td>impel</td>\n      <td>20160</td>\n      <td>1937</td>\n      <td>0</td>\n      <td>3</td>\n      <td>21</td>\n      <td>40</td>\n      <td>25</td>\n      <td>9</td>\n      <td>1</td>\n      <td>0.258380</td>\n    </tr>\n    <tr>\n      <th>356</th>\n      <td>2022/12/29</td>\n      <td>558</td>\n      <td>havoc</td>\n      <td>20001</td>\n      <td>1919</td>\n      <td>0</td>\n      <td>2</td>\n      <td>16</td>\n      <td>38</td>\n      <td>30</td>\n      <td>12</td>\n      <td>2</td>\n      <td>0.269088</td>\n    </tr>\n    <tr>\n      <th>357</th>\n      <td>2022/12/30</td>\n      <td>559</td>\n      <td>molar</td>\n      <td>21204</td>\n      <td>1973</td>\n      <td>0</td>\n      <td>4</td>\n      <td>21</td>\n      <td>38</td>\n      <td>26</td>\n      <td>9</td>\n      <td>1</td>\n      <td>0.385475</td>\n    </tr>\n    <tr>\n      <th>358</th>\n      <td>2022/12/31</td>\n      <td>560</td>\n      <td>manly</td>\n      <td>20380</td>\n      <td>1899</td>\n      <td>0</td>\n      <td>2</td>\n      <td>17</td>\n      <td>37</td>\n      <td>29</td>\n      <td>12</td>\n      <td>2</td>\n      <td>0.457635</td>\n    </tr>\n  </tbody>\n</table>\n<p>359 rows × 13 columns</p>\n</div>"
     },
     "execution_count": 9,
     "metadata": {},
     "output_type": "execute_result"
    }
   ],
   "source": [
    "# 计算letter value\n",
    "source_data['letter occupancy'] = 0\n",
    "for i in range(len(source_data)):\n",
    "    word = source_data.loc[i, 'Word']\n",
    "    word = list(word)\n",
    "    value = 0\n",
    "    for j in range(len(word)):\n",
    "        value += letter_data.loc[word[j], 'Position ' + str(j + 1)]\n",
    "    source_data.loc[i, 'letter occupancy'] = value\n",
    "\n",
    "source_data"
   ],
   "metadata": {
    "collapsed": false
   }
  },
  {
   "cell_type": "code",
   "execution_count": 10,
   "outputs": [],
   "source": [
    "def norm_(y_s):\n",
    "    temp = [1, 2, 3, 4, 5, 6, 7]\n",
    "    # data_为0个1， 1个2， 9个3， 29个4， 34个5， 22个6， 5个7\n",
    "    datas = []\n",
    "    for i, j in enumerate(y_s):\n",
    "        datas.extend([temp[i]] * j)\n",
    "    mu = np.mean(datas)\n",
    "    sigma = np.std(datas)\n",
    "    return mu, sigma, datas\n",
    "\n",
    "source_data['mu'] = 0\n",
    "source_data['sigma'] = 0\n",
    "\n",
    "for i in range(len(source_data)):\n",
    "    y_s = [source_data['1 try'][i], source_data['2 tries'][i], source_data['3 tries'][i], source_data['4 tries'][i], source_data['5 tries'][i], source_data['6 tries'][i], source_data['7 or more tries (X)'][i]]\n",
    "\n",
    "    mu, sigma, datas = norm_(y_s)\n",
    "    source_data.loc[i, 'mu'] = mu\n",
    "    source_data.loc[i, 'sigma'] = sigma"
   ],
   "metadata": {
    "collapsed": false
   }
  },
  {
   "cell_type": "code",
   "execution_count": 11,
   "outputs": [],
   "source": [
    "source_data.drop(['Number of  reported results', 'Number in hard mode'], axis=1, inplace=True)"
   ],
   "metadata": {
    "collapsed": false
   }
  },
  {
   "cell_type": "code",
   "execution_count": 12,
   "outputs": [],
   "source": [
    "# 计算 try value\n",
    "source_data['score'] = 0\n",
    "for i in range(len(source_data)):\n",
    "    score = 1 * source_data.loc[i, '1 try'] + 2 * source_data.loc[i, '2 tries'] + 3 * source_data.loc[i, '3 tries'] + 4 * source_data.loc[i, '4 tries'] + 5 * source_data.loc[i, '5 tries'] + 6 * source_data.loc[i, '6 tries'] + 7 * source_data.loc[i, '7 or more tries (X)']\n",
    "    source_data.loc[i, 'score'] = score"
   ],
   "metadata": {
    "collapsed": false
   }
  },
  {
   "cell_type": "code",
   "execution_count": 13,
   "outputs": [],
   "source": [
    "source_data.drop(['1 try', '2 tries', '3 tries', '4 tries', '5 tries', '6 tries', '7 or more tries (X)'], axis=1, inplace=True)"
   ],
   "metadata": {
    "collapsed": false
   }
  },
  {
   "cell_type": "code",
   "execution_count": 14,
   "outputs": [],
   "source": [
    "source_data['frequency'] = 0\n",
    "for i in range(len(source_data)):\n",
    "    word = source_data.loc[i, 'Word']\n",
    "    frequency = handle_data.loc[handle_data['Word'] == word, 'frequency'].values[0]\n",
    "    source_data.loc[i, 'frequency'] = frequency"
   ],
   "metadata": {
    "collapsed": false
   }
  },
  {
   "cell_type": "code",
   "execution_count": 15,
   "outputs": [
    {
     "data": {
      "text/plain": "      Word     rank  class\n0    excel      NaN      6\n1    infer  13463.0      6\n2    undue   9949.0      6\n3    prime    780.0      6\n4    sneak      NaN      6\n..     ...      ...    ...\n358  slump   9797.0      7\n359    NaN      NaN      8\n360    NaN      NaN      8\n361    NaN      NaN      8\n362    NaN      NaN      8\n\n[363 rows x 3 columns]",
      "text/html": "<div>\n<style scoped>\n    .dataframe tbody tr th:only-of-type {\n        vertical-align: middle;\n    }\n\n    .dataframe tbody tr th {\n        vertical-align: top;\n    }\n\n    .dataframe thead th {\n        text-align: right;\n    }\n</style>\n<table border=\"1\" class=\"dataframe\">\n  <thead>\n    <tr style=\"text-align: right;\">\n      <th></th>\n      <th>Word</th>\n      <th>rank</th>\n      <th>class</th>\n    </tr>\n  </thead>\n  <tbody>\n    <tr>\n      <th>0</th>\n      <td>excel</td>\n      <td>NaN</td>\n      <td>6</td>\n    </tr>\n    <tr>\n      <th>1</th>\n      <td>infer</td>\n      <td>13463.0</td>\n      <td>6</td>\n    </tr>\n    <tr>\n      <th>2</th>\n      <td>undue</td>\n      <td>9949.0</td>\n      <td>6</td>\n    </tr>\n    <tr>\n      <th>3</th>\n      <td>prime</td>\n      <td>780.0</td>\n      <td>6</td>\n    </tr>\n    <tr>\n      <th>4</th>\n      <td>sneak</td>\n      <td>NaN</td>\n      <td>6</td>\n    </tr>\n    <tr>\n      <th>...</th>\n      <td>...</td>\n      <td>...</td>\n      <td>...</td>\n    </tr>\n    <tr>\n      <th>358</th>\n      <td>slump</td>\n      <td>9797.0</td>\n      <td>7</td>\n    </tr>\n    <tr>\n      <th>359</th>\n      <td>NaN</td>\n      <td>NaN</td>\n      <td>8</td>\n    </tr>\n    <tr>\n      <th>360</th>\n      <td>NaN</td>\n      <td>NaN</td>\n      <td>8</td>\n    </tr>\n    <tr>\n      <th>361</th>\n      <td>NaN</td>\n      <td>NaN</td>\n      <td>8</td>\n    </tr>\n    <tr>\n      <th>362</th>\n      <td>NaN</td>\n      <td>NaN</td>\n      <td>8</td>\n    </tr>\n  </tbody>\n</table>\n<p>363 rows × 3 columns</p>\n</div>"
     },
     "execution_count": 15,
     "metadata": {},
     "output_type": "execute_result"
    }
   ],
   "source": [
    "source_data\n",
    "temp_data"
   ],
   "metadata": {
    "collapsed": false
   }
  },
  {
   "cell_type": "code",
   "execution_count": 16,
   "outputs": [],
   "source": [
    "source_data['class'] = 0\n",
    "for i in range(len(source_data)):\n",
    "    word = source_data.loc[i, 'Word']\n",
    "    class_ = temp_data.loc[temp_data['Word'] == word, 'class'].values\n",
    "    if len(class_) == 0:\n",
    "        class_ = 8\n",
    "    else:\n",
    "        class_ = class_[0]\n",
    "    source_data.loc[i, 'class'] = class_\n"
   ],
   "metadata": {
    "collapsed": false
   }
  },
  {
   "cell_type": "code",
   "execution_count": 17,
   "outputs": [],
   "source": [
    "eerie_letter_oc = (0.430867 - source_data['letter occupancy'].min()) / (source_data['letter occupancy'].max() - source_data['letter occupancy'].min())\n",
    "eerie_frequency = (2272 - source_data['frequency'].min()) / (source_data['frequency'].max() - source_data['frequency'].min())\n",
    "eerie_class = (7 - source_data['class'].min()) / (source_data['class'].max() - source_data['class'].min())"
   ],
   "metadata": {
    "collapsed": false
   }
  },
  {
   "cell_type": "code",
   "execution_count": 18,
   "outputs": [],
   "source": [
    "# 将 letter occupany、score、frequency 、class进行归一化\n",
    "source_data['letter occupancy'] = (source_data['letter occupancy'] - source_data['letter occupancy'].min()) / (source_data['letter occupancy'].max() - source_data['letter occupancy'].min())\n",
    "source_data['score'] = (source_data['score'] - source_data['score'].min()) / (source_data['score'].max() - source_data['score'].min())\n",
    "source_data['frequency'] = (source_data['frequency'] - source_data['frequency'].min()) / (source_data['frequency'].max() - source_data['frequency'].min())\n",
    "source_data['class'] = (source_data['class'] - source_data['class'].min()) / (source_data['class'].max() - source_data['class'].min())"
   ],
   "metadata": {
    "collapsed": false
   }
  },
  {
   "cell_type": "code",
   "execution_count": 19,
   "outputs": [],
   "source": [
    "# 将letter occupancy、frequency、class作为特征 score作为标签, 用于训练模型\n",
    "X = source_data[['letter occupancy', 'frequency', 'class']]\n",
    "Y = source_data['score']"
   ],
   "metadata": {
    "collapsed": false
   }
  },
  {
   "cell_type": "code",
   "execution_count": 29,
   "outputs": [],
   "source": [
    "# 用于训练模型\n",
    "from sklearn.linear_model import LinearRegression\n",
    "from sklearn.model_selection import train_test_split\n",
    "from sklearn.metrics import mean_squared_error\n",
    "from sklearn.metrics import r2_score\n",
    "from sklearn.metrics import mean_absolute_error\n",
    "from sklearn.metrics import explained_variance_score\n",
    "from sklearn.metrics import mean_squared_log_error\n",
    "from sklearn.metrics import median_absolute_error\n",
    "from sklearn.metrics import max_error\n",
    "from sklearn.metrics import mean_poisson_deviance\n",
    "\n",
    "X_train, X_test, y_train, y_test = train_test_split(X, Y, test_size=0.2, random_state=0)\n",
    "# 训练模型\n",
    "model = LinearRegression()\n",
    "model.fit(X_train, y_train)\n",
    "# 预测\n",
    "y_pred = model.predict(X_test)\n",
    "# 求线性回归的loss曲线\n",
    "loss = []\n",
    "for i in range(len(y_test)):\n",
    "    loss.append((y_test.values[i] - y_pred[i]) ** 2)"
   ],
   "metadata": {
    "collapsed": false
   }
  },
  {
   "cell_type": "code",
   "execution_count": 30,
   "outputs": [
    {
     "data": {
      "text/plain": "<Figure size 640x480 with 1 Axes>",
      "image/png": "[encoded data removed]"
     },
     "metadata": {},
     "output_type": "display_data"
    }
   ],
   "source": [
    "# 绘制loss曲线\n",
    "import matplotlib.pyplot as plt\n",
    "plt.plot(loss)\n",
    "plt.show()\n"
   ],
   "metadata": {
    "collapsed": false
   }
  },
  {
   "cell_type": "code",
   "execution_count": 21,
   "outputs": [
    {
     "name": "stdout",
     "output_type": "stream",
     "text": [
      "MSE: 0.02\n",
      "RMSE: 0.13\n",
      "MAE: 0.11\n",
      "R2: 0.05\n",
      "EVS: 0.05\n",
      "MSLE: 0.01\n",
      "MdAE: 0.09\n",
      "ME: 0.43\n",
      "MPD: 0.05\n",
      "模型权重:  [-0.10909621 -0.17007549  0.09175316]\n",
      "模型截距:  0.37544925497874493\n"
     ]
    }
   ],
   "source": [
    "\n",
    "# 评估模型\n",
    "print('MSE: %.2f' % mean_squared_error(y_test, y_pred))\n",
    "print('RMSE: %.2f' % np.sqrt(mean_squared_error(y_test, y_pred)))\n",
    "print('MAE: %.2f' % mean_absolute_error(y_test, y_pred))\n",
    "print('R2: %.2f' % r2_score(y_test, y_pred))\n",
    "print('EVS: %.2f' % explained_variance_score(y_test, y_pred))\n",
    "print('MSLE: %.2f' % mean_squared_log_error(y_test, y_pred))\n",
    "print('MdAE: %.2f' % median_absolute_error(y_test, y_pred))\n",
    "print('ME: %.2f' % max_error(y_test, y_pred))\n",
    "print('MPD: %.2f' % mean_poisson_deviance(y_test, y_pred))\n",
    "\n",
    "# 模型权重\n",
    "print('模型权重: ', model.coef_)\n",
    "# 模型截距\n",
    "print('模型截距: ', model.intercept_)\n"
   ],
   "metadata": {
    "collapsed": false
   }
  },
  {
   "cell_type": "code",
   "execution_count": 22,
   "outputs": [
    {
     "data": {
      "text/plain": "           Date  Contest number   Word  letter occupancy        mu     sigma  \\\n0      2022/1/7             202  slump          0.523169  4.130000  1.055036   \n1      2022/1/8             203  crank          0.688590  4.220000  1.204824   \n2      2022/1/9             204  gorge          0.692576  4.640000  1.212601   \n3     2022/1/10             205  query          0.515197  4.430000  1.176903   \n4     2022/1/11             206  drink          0.546587  3.732673  1.079889   \n..          ...             ...    ...               ...       ...       ...   \n354  2022/12/27             556  condo          0.455904  4.450000  1.080509   \n355  2022/12/28             557  impel          0.264076  4.191919  1.001784   \n356  2022/12/29             558  havoc          0.286996  4.400000  1.019804   \n357  2022/12/30             559  molar          0.536124  4.181818  1.028519   \n358  2022/12/31             560  manly          0.690583  4.383838  1.031886   \n\n        score  frequency     class  difficult  \n0    0.356401   0.004210  0.857143   0.396303  \n1    0.387543   0.002907  1.000000   0.391586  \n2    0.532872   0.001674  0.857143   0.378253  \n3    0.460208   0.002145  0.428571   0.358201  \n4    0.231834   0.045307  0.000000   0.308113  \n..        ...        ...       ...        ...  \n354  0.467128   0.002540  1.000000   0.417033  \n355  0.363322   0.000458  1.000000   0.438315  \n356  0.449827   0.001422  0.857143   0.422543  \n357  0.359862   0.000332  0.857143   0.395549  \n358  0.429066   0.000691  1.000000   0.391745  \n\n[359 rows x 10 columns]",
      "text/html": "<div>\n<style scoped>\n    .dataframe tbody tr th:only-of-type {\n        vertical-align: middle;\n    }\n\n    .dataframe tbody tr th {\n        vertical-align: top;\n    }\n\n    .dataframe thead th {\n        text-align: right;\n    }\n</style>\n<table border=\"1\" class=\"dataframe\">\n  <thead>\n    <tr style=\"text-align: right;\">\n      <th></th>\n      <th>Date</th>\n      <th>Contest number</th>\n      <th>Word</th>\n      <th>letter occupancy</th>\n      <th>mu</th>\n      <th>sigma</th>\n      <th>score</th>\n      <th>frequency</th>\n      <th>class</th>\n      <th>difficult</th>\n    </tr>\n  </thead>\n  <tbody>\n    <tr>\n      <th>0</th>\n      <td>2022/1/7</td>\n      <td>202</td>\n      <td>slump</td>\n      <td>0.523169</td>\n      <td>4.130000</td>\n      <td>1.055036</td>\n      <td>0.356401</td>\n      <td>0.004210</td>\n      <td>0.857143</td>\n      <td>0.396303</td>\n    </tr>\n    <tr>\n      <th>1</th>\n      <td>2022/1/8</td>\n      <td>203</td>\n      <td>crank</td>\n      <td>0.688590</td>\n      <td>4.220000</td>\n      <td>1.204824</td>\n      <td>0.387543</td>\n      <td>0.002907</td>\n      <td>1.000000</td>\n      <td>0.391586</td>\n    </tr>\n    <tr>\n      <th>2</th>\n      <td>2022/1/9</td>\n      <td>204</td>\n      <td>gorge</td>\n      <td>0.692576</td>\n      <td>4.640000</td>\n      <td>1.212601</td>\n      <td>0.532872</td>\n      <td>0.001674</td>\n      <td>0.857143</td>\n      <td>0.378253</td>\n    </tr>\n    <tr>\n      <th>3</th>\n      <td>2022/1/10</td>\n      <td>205</td>\n      <td>query</td>\n      <td>0.515197</td>\n      <td>4.430000</td>\n      <td>1.176903</td>\n      <td>0.460208</td>\n      <td>0.002145</td>\n      <td>0.428571</td>\n      <td>0.358201</td>\n    </tr>\n    <tr>\n      <th>4</th>\n      <td>2022/1/11</td>\n      <td>206</td>\n      <td>drink</td>\n      <td>0.546587</td>\n      <td>3.732673</td>\n      <td>1.079889</td>\n      <td>0.231834</td>\n      <td>0.045307</td>\n      <td>0.000000</td>\n      <td>0.308113</td>\n    </tr>\n    <tr>\n      <th>...</th>\n      <td>...</td>\n      <td>...</td>\n      <td>...</td>\n      <td>...</td>\n      <td>...</td>\n      <td>...</td>\n      <td>...</td>\n      <td>...</td>\n      <td>...</td>\n      <td>...</td>\n    </tr>\n    <tr>\n      <th>354</th>\n      <td>2022/12/27</td>\n      <td>556</td>\n      <td>condo</td>\n      <td>0.455904</td>\n      <td>4.450000</td>\n      <td>1.080509</td>\n      <td>0.467128</td>\n      <td>0.002540</td>\n      <td>1.000000</td>\n      <td>0.417033</td>\n    </tr>\n    <tr>\n      <th>355</th>\n      <td>2022/12/28</td>\n      <td>557</td>\n      <td>impel</td>\n      <td>0.264076</td>\n      <td>4.191919</td>\n      <td>1.001784</td>\n      <td>0.363322</td>\n      <td>0.000458</td>\n      <td>1.000000</td>\n      <td>0.438315</td>\n    </tr>\n    <tr>\n      <th>356</th>\n      <td>2022/12/29</td>\n      <td>558</td>\n      <td>havoc</td>\n      <td>0.286996</td>\n      <td>4.400000</td>\n      <td>1.019804</td>\n      <td>0.449827</td>\n      <td>0.001422</td>\n      <td>0.857143</td>\n      <td>0.422543</td>\n    </tr>\n    <tr>\n      <th>357</th>\n      <td>2022/12/30</td>\n      <td>559</td>\n      <td>molar</td>\n      <td>0.536124</td>\n      <td>4.181818</td>\n      <td>1.028519</td>\n      <td>0.359862</td>\n      <td>0.000332</td>\n      <td>0.857143</td>\n      <td>0.395549</td>\n    </tr>\n    <tr>\n      <th>358</th>\n      <td>2022/12/31</td>\n      <td>560</td>\n      <td>manly</td>\n      <td>0.690583</td>\n      <td>4.383838</td>\n      <td>1.031886</td>\n      <td>0.429066</td>\n      <td>0.000691</td>\n      <td>1.000000</td>\n      <td>0.391745</td>\n    </tr>\n  </tbody>\n</table>\n<p>359 rows × 10 columns</p>\n</div>"
     },
     "execution_count": 22,
     "metadata": {},
     "output_type": "execute_result"
    }
   ],
   "source": [
    "source_data['difficult'] = 0\n",
    "for i in range(len(source_data)):\n",
    "    source_data.loc[i, 'difficult'] = model.coef_[0] * source_data.loc[i, 'letter occupancy'] + model.coef_[1] * source_data.loc[i, 'frequency'] + model.coef_[2] * source_data.loc[i, 'class'] + model.intercept_\n",
    "\n",
    "source_data"
   ],
   "metadata": {
    "collapsed": false
   }
  },
  {
   "cell_type": "code",
   "execution_count": 23,
   "outputs": [
    {
     "data": {
      "text/plain": "0.3846853968430463"
     },
     "execution_count": 23,
     "metadata": {},
     "output_type": "execute_result"
    }
   ],
   "source": [
    "eerie_difficult = model.coef_[0] * eerie_letter_oc + model.coef_[1] * eerie_frequency + model.coef_[2] * eerie_class + model.intercept_\n",
    "eerie_difficult"
   ],
   "metadata": {
    "collapsed": false
   }
  },
  {
   "cell_type": "code",
   "execution_count": 24,
   "outputs": [
    {
     "data": {
      "text/plain": "<Figure size 640x480 with 0 Axes>"
     },
     "metadata": {},
     "output_type": "display_data"
    }
   ],
   "source": [
    "# 将拟合平面和数据点画出\n",
    "import matplotlib.pyplot as plt\n",
    "from mpl_toolkits.mplot3d import Axes3D\n",
    "fig = plt.figure()\n",
    "ax = Axes3D(fig)\n",
    "ax.scatter(X_test['letter occupancy'], X_test['frequency'], X_test['class'], color='blue')\n",
    "ax.scatter(X_test['letter occupancy'], X_test['frequency'], X_test['class'], color='red')\n",
    "ax.set_xlabel('letter occupancy')\n",
    "ax.set_ylabel('frequency')\n",
    "ax.set_zlabel('score')\n",
    "plt.show()\n",
    "fig.savefig('score.png')"
   ],
   "metadata": {
    "collapsed": false
   }
  },
  {
   "cell_type": "code",
   "execution_count": 25,
   "outputs": [],
   "source": [
    "source_data.to_csv('../data/output_data.csv', index=False)"
   ],
   "metadata": {
    "collapsed": false
   }
  }
 ],
 "metadata": {
  "kernelspec": {
   "display_name": "Python 3",
   "language": "python",
   "name": "python3"
  },
  "language_info": {
   "codemirror_mode": {
    "name": "ipython",
    "version": 2
   },
   "file_extension": ".py",
   "mimetype": "text/x-python",
   "name": "python",
   "nbconvert_exporter": "python",
   "pygments_lexer": "ipython2",
   "version": "2.7.6"
  }
 },
 "nbformat": 4,
 "nbformat_minor": 0
}
