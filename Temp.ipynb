{
 "cells": [
  {
   "cell_type": "code",
   "execution_count": 1,
   "metadata": {
    "collapsed": true
   },
   "outputs": [],
   "source": [
    "import pandas as pd\n",
    "import numpy as np"
   ]
  },
  {
   "cell_type": "code",
   "execution_count": null,
   "outputs": [],
   "source": [
    "df = pd.read_csv('data/source_data.csv', usecols=['Word', 'Number of  reported results', 'Date', 'Number in hard mode'], parse_dates=['Date'], index_col='Date')\n",
    "df.head()"
   ],
   "metadata": {
    "collapsed": false,
    "pycharm": {
     "is_executing": true
    }
   }
  },
  {
   "cell_type": "code",
   "execution_count": null,
   "outputs": [],
   "source": [
    "# 计算 Number in hard mode 的比例\n",
    "# df['Number in hard mode'] = df['Number in hard mode'] / df['Number of  reported results']\n",
    "# 绘制比例图像\n",
    "import matplotlib.pyplot as plt\n",
    "fig = plt.figure(figsize=(12, 8), dpi=400)\n",
    "plt.plot(df['Number in hard mode'])\n",
    "plt.xlabel('Date', fontsize=12)\n",
    "# y标签是Number in hard mode的比例\n",
    "plt.ylabel('Number in hard mode', fontsize=12)\n",
    "plt.show()"
   ],
   "metadata": {
    "collapsed": false,
    "pycharm": {
     "is_executing": true
    }
   }
  },
  {
   "cell_type": "code",
   "execution_count": null,
   "outputs": [],
   "source": [
    "word_list = df.Word.tolist()\n",
    "for i in range(len(word_list)):\n",
    "    word_list[i] = list(word_list[i])\n",
    "\n",
    "# 将二维列表转置\n",
    "word_list = np.array(word_list).T.tolist()\n",
    "\n",
    "# 计算每个字母在单词每一位置上出现的次数\n",
    "data = []\n",
    "for i in range(len(word_list)):\n",
    "    # 统计 每个字母出现的次数\n",
    "    temp = pd.Series(word_list[i]).value_counts()\n",
    "    data.append(temp)\n",
    "\n",
    "for i in range(len(word_list)):\n",
    "    # 将每个字母出现的次数转换为百分比\n",
    "    data[i] = data[i] / data[i].sum()\n",
    "    # 将字母按照从小到大排序\n",
    "    data[i] = data[i].sort_index()\n",
    "\n",
    "# 转化为dataFrame\n",
    "df = pd.DataFrame(data)\n",
    "# 求转置\n",
    "df = df.T\n",
    "# 将NAN数据转化为0\n",
    "df = df.fillna(0)"
   ],
   "metadata": {
    "collapsed": false,
    "pycharm": {
     "is_executing": true
    }
   }
  },
  {
   "cell_type": "code",
   "execution_count": null,
   "outputs": [],
   "source": [
    "# 设置df的头\n",
    "df.columns = ['Position 1', 'Position 2', 'Position 3', 'Position 4', 'Position 5']\n",
    "df"
   ],
   "metadata": {
    "collapsed": false,
    "pycharm": {
     "is_executing": true
    }
   }
  },
  {
   "cell_type": "code",
   "execution_count": null,
   "outputs": [],
   "source": [
    "# 绘制热力图\n",
    "import seaborn as sns\n",
    "import matplotlib.pyplot as plt\n",
    "fig = plt.figure(figsize=(8, 13), dpi=400)\n",
    "sns.heatmap(df, cmap='Blues')\n",
    "plt.xlabel('Letter Position', fontsize=13)\n",
    "plt.ylabel('Letter', fontsize=13)\n",
    "# 设置 xtick和ytick的字体大小\n",
    "plt.xticks(fontsize=12)\n",
    "plt.yticks(fontsize=12)\n",
    "# 设置 ytick 的字体旋转\n",
    "plt.yticks(rotation=0)\n",
    "plt.show()\n",
    "fig.savefig('pic/heatmap.png', dpi=400)"
   ],
   "metadata": {
    "collapsed": false,
    "pycharm": {
     "is_executing": true
    }
   }
  },
  {
   "cell_type": "code",
   "execution_count": null,
   "outputs": [],
   "source": [
    "# 绘制图像\n",
    "import matplotlib.pyplot as plt\n",
    "fig = plt.figure(figsize=(12, 8), dpi=400)\n",
    "plt.plot(df['Number of  reported results'])\n",
    "# 横坐标设置步长\n",
    "# plt.xticks(range(0, len(df), 80))\n",
    "plt.xlabel('Date', fontsize=12)\n",
    "plt.ylabel('Number of  reported results', fontsize=12)\n",
    "plt.show()\n",
    "fig.savefig('pic/results.png', dpi=400)"
   ],
   "metadata": {
    "collapsed": false,
    "pycharm": {
     "is_executing": true
    }
   }
  },
  {
   "cell_type": "code",
   "execution_count": 8,
   "outputs": [
    {
     "name": "stdout",
     "output_type": "stream",
     "text": [
      "stat=0.923, p=0.00002\n"
     ]
    }
   ],
   "source": [
    "y = [0, 1, 9, 29, 34, 22, 5]\n",
    "temp = [1, 2, 3, 4, 5, 6, 7]\n",
    "# data_为0个1， 1个2， 9个3， 29个4， 34个5， 22个6， 5个7\n",
    "datas = []\n",
    "for i, j in enumerate(y):\n",
    "    datas.extend([temp[i]] * j)\n",
    "\n",
    "import pandas as pd\n",
    "df = pd.DataFrame(datas, columns=['data'])\n",
    "u = df['data'].mean()\n",
    "std = df['data'].std()\n",
    "\n",
    "# 使用SW检验， 判断是否符合正态分布\n",
    "from scipy.stats import shapiro\n",
    "stat, p = shapiro(datas)\n",
    "print('stat=%.3f, p=%.5f' % (stat, p))"
   ],
   "metadata": {
    "collapsed": false
   }
  },
  {
   "cell_type": "code",
   "execution_count": null,
   "outputs": [],
   "source": [
    "\n",
    "\n",
    "x = ['1try', '2tries', '3tries', '4tries', '5tries', '6tries', '7 or more tries (X)']\n",
    "datas"
   ],
   "metadata": {
    "collapsed": false,
    "pycharm": {
     "is_executing": true
    }
   }
  },
  {
   "cell_type": "code",
   "execution_count": null,
   "outputs": [],
   "source": [
    "from scipy.stats import norm\n",
    "# 绘制正态分布拟合\n",
    "import pandas as pd\n",
    "import seaborn as sns\n",
    "import numpy as np\n",
    "import matplotlib.pyplot as plt\n",
    "\n",
    "y = [1, 10, 28, 31, 19, 9,2\n",
    "]\n",
    "temp = [1, 2, 3, 4, 5, 6, 7]\n",
    "# data_为0个1， 1个2， 9个3， 29个4， 34个5， 22个6， 5个7\n",
    "datas = []\n",
    "for i, j in enumerate(y):\n",
    "    datas.extend([temp[i]] * j)\n",
    "\n",
    "datas = np.array(datas)\n",
    "mu = datas.mean()\n",
    "sigma = datas.std()\n",
    "\n",
    "x = np.linspace(mu - 3 * sigma, mu + 3 * sigma, 50)\n",
    "y = norm.pdf(x, mu, sigma)\n",
    "plt.plot(x, y)\n",
    "plt.show()\n",
    "\n",
    "# num_bins = 5\n",
    "# # 正态分布的概率密度函数\n",
    "# n, bins, patches = plt.hist(datas, num_bins, density=1, facecolor='blue', alpha=0.5)\n",
    "# # 拟合一条最佳正态分布曲线y\n",
    "# y = norm.pdf(bins, mu, sigma)\n",
    "# plt.plot(bins, y, 'r--')\n",
    "\n",
    "\n",
    "# s = pd.DataFrame(y, columns=['y'])\n",
    "# fig = plt.figure(figsize=(12, 8), dpi=400)\n",
    "# # 横坐标标签为尝试次数\n",
    "# plt.xlabel('Number of tries', fontsize=13)\n",
    "# # 设置纵坐标标签字体大小\n",
    "# plt.ylabel('Density', fontsize=13)\n",
    "# # 设置坐标轴刻度字体大小\n",
    "# plt.xticks(fontsize=12)\n",
    "# plt.yticks(fontsize=12)\n",
    "# sns.distplot(datas)\n",
    "# plt.show()\n",
    "# # 保存图片\n",
    "# fig.savefig('pic/normal.png', dpi=400)"
   ],
   "metadata": {
    "collapsed": false,
    "pycharm": {
     "is_executing": true
    }
   }
  }
 ],
 "metadata": {
  "kernelspec": {
   "display_name": "Python 3",
   "language": "python",
   "name": "python3"
  },
  "language_info": {
   "codemirror_mode": {
    "name": "ipython",
    "version": 2
   },
   "file_extension": ".py",
   "mimetype": "text/x-python",
   "name": "python",
   "nbconvert_exporter": "python",
   "pygments_lexer": "ipython2",
   "version": "2.7.6"
  }
 },
 "nbformat": 4,
 "nbformat_minor": 0
}
