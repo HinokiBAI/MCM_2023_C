{
 "cells": [
  {
   "cell_type": "code",
   "execution_count": 28,
   "metadata": {
    "collapsed": true
   },
   "outputs": [],
   "source": [
    "import numpy as np\n",
    "import matplotlib.pyplot as plt\n",
    "import pandas as pd"
   ]
  },
  {
   "cell_type": "code",
   "execution_count": 29,
   "outputs": [],
   "source": [
    "# Importing the dataset\n",
    "output_data = pd.read_csv('../data/output_data.csv')\n",
    "source_data = pd.read_csv('../data/source_data.csv')"
   ],
   "metadata": {
    "collapsed": false
   }
  },
  {
   "cell_type": "code",
   "execution_count": 30,
   "outputs": [],
   "source": [
    "source_data['score'] = 0\n",
    "for i in range(len(source_data)):\n",
    "    score = 1 * source_data.loc[i, '1 try'] + 2 * source_data.loc[i, '2 tries'] + 3 * source_data.loc[i, '3 tries'] + 4 * source_data.loc[i, '4 tries'] + 5 * source_data.loc[i, '5 tries'] + 6 * source_data.loc[i, '6 tries'] + 7 * source_data.loc[i, '7 or more tries (X)']\n",
    "    source_data.loc[i, 'score'] = score"
   ],
   "metadata": {
    "collapsed": false
   }
  },
  {
   "cell_type": "code",
   "execution_count": 31,
   "outputs": [],
   "source": [
    "# 只保留output_data['Word']这个单词中出现相同字母的单词的行\n",
    "for i in range(len(output_data)):\n",
    "    word = output_data['Word'][i]\n",
    "    flag = 0\n",
    "    for j in word:\n",
    "        # 判断 j 出现的个数\n",
    "        if word.count(j) > 1:\n",
    "            flag = 1\n",
    "            break\n",
    "\n",
    "    if flag == 0:\n",
    "        output_data.drop(i, inplace=True)\n",
    "\n",
    "for i in range(len(source_data)):\n",
    "    word = source_data['Word'][i]\n",
    "    flag = 0\n",
    "    for j in word:\n",
    "        # 判断 j 出现的个数\n",
    "        if word.count(j) > 1:\n",
    "            flag = 1\n",
    "            break\n",
    "\n",
    "    if flag == 0:\n",
    "        source_data.drop(i, inplace=True)"
   ],
   "metadata": {
    "collapsed": false
   }
  },
  {
   "cell_type": "code",
   "execution_count": 49,
   "outputs": [],
   "source": [
    "data1 = source_data[['Word', 'score', 'Contest number']]\n",
    "data2 = output_data[['Word', 'difficult']]"
   ],
   "metadata": {
    "collapsed": false
   }
  },
  {
   "cell_type": "code",
   "execution_count": 52,
   "outputs": [],
   "source": [
    "# 合并两个dataframe\n",
    "data = pd.merge(data1, data2, on='Word')\n",
    "# 按照difficult排序\n",
    "data = data.sort_values(by='difficult', ascending=True)\n",
    "# 给contest number 带上引号\n",
    "data['Contest number'] = data['Contest number'].apply(lambda x: \"'\" + str(x) + \"'\")"
   ],
   "metadata": {
    "collapsed": false
   }
  },
  {
   "cell_type": "markdown",
   "source": [],
   "metadata": {
    "collapsed": false
   }
  },
  {
   "cell_type": "code",
   "execution_count": 53,
   "outputs": [
    {
     "data": {
      "text/plain": "                   89     69     15     77     20     80     90     84     30  \\\nWord            there  class  sweet  leave  shall  floor  happy  carry  glass   \nscore             359    436    433    426    447    407    390    427    437   \nContest number  '516'  '446'  '262'  '469'  '283'  '482'  '526'  '495'  '334'   \ndifficult       0.147  0.298    0.3  0.303  0.306  0.309  0.313  0.314  0.315   \n\n                   16  ...     42     79     40     71     66     73     44  \\\nWord            tease  ...  hutch  ionic  retro  tibia  whoop  alpha  lilac   \nscore             372  ...    479    486    405    440    432    424    431   \nContest number  '269'  ...  '376'  '480'  '373'  '449'  '443'  '451'  '379'   \ndifficult        0.32  ...  0.431  0.431  0.432  0.432  0.433  0.433  0.435   \n\n                   3      61     76  \nWord            knoll  khaki  usurp  \nscore             471    451    412  \nContest number  '219'  '421'  '466'  \ndifficult       0.436  0.442  0.456  \n\n[4 rows x 100 columns]",
      "text/html": "<div>\n<style scoped>\n    .dataframe tbody tr th:only-of-type {\n        vertical-align: middle;\n    }\n\n    .dataframe tbody tr th {\n        vertical-align: top;\n    }\n\n    .dataframe thead th {\n        text-align: right;\n    }\n</style>\n<table border=\"1\" class=\"dataframe\">\n  <thead>\n    <tr style=\"text-align: right;\">\n      <th></th>\n      <th>89</th>\n      <th>69</th>\n      <th>15</th>\n      <th>77</th>\n      <th>20</th>\n      <th>80</th>\n      <th>90</th>\n      <th>84</th>\n      <th>30</th>\n      <th>16</th>\n      <th>...</th>\n      <th>42</th>\n      <th>79</th>\n      <th>40</th>\n      <th>71</th>\n      <th>66</th>\n      <th>73</th>\n      <th>44</th>\n      <th>3</th>\n      <th>61</th>\n      <th>76</th>\n    </tr>\n  </thead>\n  <tbody>\n    <tr>\n      <th>Word</th>\n      <td>there</td>\n      <td>class</td>\n      <td>sweet</td>\n      <td>leave</td>\n      <td>shall</td>\n      <td>floor</td>\n      <td>happy</td>\n      <td>carry</td>\n      <td>glass</td>\n      <td>tease</td>\n      <td>...</td>\n      <td>hutch</td>\n      <td>ionic</td>\n      <td>retro</td>\n      <td>tibia</td>\n      <td>whoop</td>\n      <td>alpha</td>\n      <td>lilac</td>\n      <td>knoll</td>\n      <td>khaki</td>\n      <td>usurp</td>\n    </tr>\n    <tr>\n      <th>score</th>\n      <td>359</td>\n      <td>436</td>\n      <td>433</td>\n      <td>426</td>\n      <td>447</td>\n      <td>407</td>\n      <td>390</td>\n      <td>427</td>\n      <td>437</td>\n      <td>372</td>\n      <td>...</td>\n      <td>479</td>\n      <td>486</td>\n      <td>405</td>\n      <td>440</td>\n      <td>432</td>\n      <td>424</td>\n      <td>431</td>\n      <td>471</td>\n      <td>451</td>\n      <td>412</td>\n    </tr>\n    <tr>\n      <th>Contest number</th>\n      <td>'516'</td>\n      <td>'446'</td>\n      <td>'262'</td>\n      <td>'469'</td>\n      <td>'283'</td>\n      <td>'482'</td>\n      <td>'526'</td>\n      <td>'495'</td>\n      <td>'334'</td>\n      <td>'269'</td>\n      <td>...</td>\n      <td>'376'</td>\n      <td>'480'</td>\n      <td>'373'</td>\n      <td>'449'</td>\n      <td>'443'</td>\n      <td>'451'</td>\n      <td>'379'</td>\n      <td>'219'</td>\n      <td>'421'</td>\n      <td>'466'</td>\n    </tr>\n    <tr>\n      <th>difficult</th>\n      <td>0.147</td>\n      <td>0.298</td>\n      <td>0.3</td>\n      <td>0.303</td>\n      <td>0.306</td>\n      <td>0.309</td>\n      <td>0.313</td>\n      <td>0.314</td>\n      <td>0.315</td>\n      <td>0.32</td>\n      <td>...</td>\n      <td>0.431</td>\n      <td>0.431</td>\n      <td>0.432</td>\n      <td>0.432</td>\n      <td>0.433</td>\n      <td>0.433</td>\n      <td>0.435</td>\n      <td>0.436</td>\n      <td>0.442</td>\n      <td>0.456</td>\n    </tr>\n  </tbody>\n</table>\n<p>4 rows × 100 columns</p>\n</div>"
     },
     "execution_count": 53,
     "metadata": {},
     "output_type": "execute_result"
    }
   ],
   "source": [
    "data.T"
   ],
   "metadata": {
    "collapsed": false
   }
  }
 ],
 "metadata": {
  "kernelspec": {
   "display_name": "Python 3",
   "language": "python",
   "name": "python3"
  },
  "language_info": {
   "codemirror_mode": {
    "name": "ipython",
    "version": 2
   },
   "file_extension": ".py",
   "mimetype": "text/x-python",
   "name": "python",
   "nbconvert_exporter": "python",
   "pygments_lexer": "ipython2",
   "version": "2.7.6"
  }
 },
 "nbformat": 4,
 "nbformat_minor": 0
}
