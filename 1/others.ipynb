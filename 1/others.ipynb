{
 "cells": [
  {
   "cell_type": "code",
   "execution_count": 2,
   "metadata": {
    "collapsed": true
   },
   "outputs": [],
   "source": [
    "import pandas as pd\n",
    "import numpy as np\n"
   ]
  },
  {
   "cell_type": "code",
   "execution_count": null,
   "outputs": [],
   "source": [
    "source_data = pd.read_csv('../data/source_data.csv', usecols=[2, 5, 6, 7, 8, 9, 10, 11])"
   ],
   "metadata": {
    "collapsed": false
   }
  },
  {
   "cell_type": "code",
   "execution_count": null,
   "outputs": [],
   "source": [
    "# 输出\n",
    "def norm_(y_s):\n",
    "    temp = [1, 2, 3, 4, 5, 6, 7]\n",
    "    # data_为0个1， 1个2， 9个3， 29个4， 34个5， 22个6， 5个7\n",
    "    datas = []\n",
    "    for i, j in enumerate(y_s):\n",
    "        datas.extend([temp[i]] * j)\n",
    "    mu = np.mean(datas)\n",
    "    sigma = np.std(datas)\n",
    "    return mu, sigma"
   ],
   "metadata": {
    "collapsed": false
   }
  }
 ],
 "metadata": {
  "kernelspec": {
   "display_name": "Python 3",
   "language": "python",
   "name": "python3"
  },
  "language_info": {
   "codemirror_mode": {
    "name": "ipython",
    "version": 2
   },
   "file_extension": ".py",
   "mimetype": "text/x-python",
   "name": "python",
   "nbconvert_exporter": "python",
   "pygments_lexer": "ipython2",
   "version": "2.7.6"
  }
 },
 "nbformat": 4,
 "nbformat_minor": 0
}
