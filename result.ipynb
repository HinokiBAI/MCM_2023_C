{
 "cells": [
  {
   "cell_type": "code",
   "execution_count": 2,
   "metadata": {
    "collapsed": true
   },
   "outputs": [],
   "source": [
    "import pandas as pd\n",
    "import numpy as np"
   ]
  },
  {
   "cell_type": "code",
   "execution_count": 6,
   "outputs": [
    {
     "data": {
      "text/plain": "      Word  letter occupancy  frequency     class  difficult  label\n0    slump          0.523169   0.004210  0.857143   0.396303      3\n1    crank          0.688590   0.002907  1.000000   0.391586      0\n2    gorge          0.692576   0.001674  0.857143   0.378253      0\n3    query          0.515197   0.002145  0.428571   0.358201      4\n4    drink          0.546587   0.045307  0.000000   0.308113      1\n..     ...               ...        ...       ...        ...    ...\n354  condo          0.455904   0.002540  1.000000   0.417033      3\n355  impel          0.264076   0.000458  1.000000   0.438315      3\n356  havoc          0.286996   0.001422  0.857143   0.422543      3\n357  molar          0.536124   0.000332  0.857143   0.395549      0\n358  manly          0.690583   0.000691  1.000000   0.391745      0\n\n[359 rows x 6 columns]",
      "text/html": "<div>\n<style scoped>\n    .dataframe tbody tr th:only-of-type {\n        vertical-align: middle;\n    }\n\n    .dataframe tbody tr th {\n        vertical-align: top;\n    }\n\n    .dataframe thead th {\n        text-align: right;\n    }\n</style>\n<table border=\"1\" class=\"dataframe\">\n  <thead>\n    <tr style=\"text-align: right;\">\n      <th></th>\n      <th>Word</th>\n      <th>letter occupancy</th>\n      <th>frequency</th>\n      <th>class</th>\n      <th>difficult</th>\n      <th>label</th>\n    </tr>\n  </thead>\n  <tbody>\n    <tr>\n      <th>0</th>\n      <td>slump</td>\n      <td>0.523169</td>\n      <td>0.004210</td>\n      <td>0.857143</td>\n      <td>0.396303</td>\n      <td>3</td>\n    </tr>\n    <tr>\n      <th>1</th>\n      <td>crank</td>\n      <td>0.688590</td>\n      <td>0.002907</td>\n      <td>1.000000</td>\n      <td>0.391586</td>\n      <td>0</td>\n    </tr>\n    <tr>\n      <th>2</th>\n      <td>gorge</td>\n      <td>0.692576</td>\n      <td>0.001674</td>\n      <td>0.857143</td>\n      <td>0.378253</td>\n      <td>0</td>\n    </tr>\n    <tr>\n      <th>3</th>\n      <td>query</td>\n      <td>0.515197</td>\n      <td>0.002145</td>\n      <td>0.428571</td>\n      <td>0.358201</td>\n      <td>4</td>\n    </tr>\n    <tr>\n      <th>4</th>\n      <td>drink</td>\n      <td>0.546587</td>\n      <td>0.045307</td>\n      <td>0.000000</td>\n      <td>0.308113</td>\n      <td>1</td>\n    </tr>\n    <tr>\n      <th>...</th>\n      <td>...</td>\n      <td>...</td>\n      <td>...</td>\n      <td>...</td>\n      <td>...</td>\n      <td>...</td>\n    </tr>\n    <tr>\n      <th>354</th>\n      <td>condo</td>\n      <td>0.455904</td>\n      <td>0.002540</td>\n      <td>1.000000</td>\n      <td>0.417033</td>\n      <td>3</td>\n    </tr>\n    <tr>\n      <th>355</th>\n      <td>impel</td>\n      <td>0.264076</td>\n      <td>0.000458</td>\n      <td>1.000000</td>\n      <td>0.438315</td>\n      <td>3</td>\n    </tr>\n    <tr>\n      <th>356</th>\n      <td>havoc</td>\n      <td>0.286996</td>\n      <td>0.001422</td>\n      <td>0.857143</td>\n      <td>0.422543</td>\n      <td>3</td>\n    </tr>\n    <tr>\n      <th>357</th>\n      <td>molar</td>\n      <td>0.536124</td>\n      <td>0.000332</td>\n      <td>0.857143</td>\n      <td>0.395549</td>\n      <td>0</td>\n    </tr>\n    <tr>\n      <th>358</th>\n      <td>manly</td>\n      <td>0.690583</td>\n      <td>0.000691</td>\n      <td>1.000000</td>\n      <td>0.391745</td>\n      <td>0</td>\n    </tr>\n  </tbody>\n</table>\n<p>359 rows × 6 columns</p>\n</div>"
     },
     "execution_count": 6,
     "metadata": {},
     "output_type": "execute_result"
    }
   ],
   "source": [
    "df = pd.read_csv('./data/output_data.csv')\n",
    "df"
   ],
   "metadata": {
    "collapsed": false
   }
  },
  {
   "cell_type": "code",
   "execution_count": null,
   "outputs": [],
   "source": [],
   "metadata": {
    "collapsed": false
   }
  }
 ],
 "metadata": {
  "kernelspec": {
   "display_name": "Python 3",
   "language": "python",
   "name": "python3"
  },
  "language_info": {
   "codemirror_mode": {
    "name": "ipython",
    "version": 2
   },
   "file_extension": ".py",
   "mimetype": "text/x-python",
   "name": "python",
   "nbconvert_exporter": "python",
   "pygments_lexer": "ipython2",
   "version": "2.7.6"
  }
 },
 "nbformat": 4,
 "nbformat_minor": 0
}
